{
 "cells": [
  {
   "cell_type": "code",
   "execution_count": 3,
   "metadata": {},
   "outputs": [],
   "source": [
    "#csv 파일 읽어서 sql파일에 넣기\n",
    "\n",
    "import pymysql\n",
    "import pandas as pd\n",
    "\n",
    "def load_iris_data():\n",
    "    csv_file = './datascience/iris.csv'\n",
    "    iris = pd.read_csv(csv_file)\n",
    "    \n",
    "    #db connection 생성\n",
    "    conn = pymysql.connect(host = 'localhost',user = 'root',password = 'taeyoon!', db = 'datascienceassignment3')\n",
    "    curs = conn.cursor(pymysql.cursors.DictCursor)\n",
    "\n",
    "    #겹칠 경우\n",
    "    drop_sql = \"\"\"drop table if exists iris\"\"\"\n",
    "    curs.execute(drop_sql)\n",
    "    conn.commit()\n",
    "    \n",
    "    #직접 데이터프레임으로부터 테이블을 만들고 입력 하는 모듈\n",
    "    import sqlalchemy\n",
    "    database_username = 'root'\n",
    "    database_password = 'taeyoon!'\n",
    "    database_ip = 'localhost'\n",
    "    database_name = 'datascienceassignment3'\n",
    "    database_connection = sqlalchemy.create_engine('mysql+pymysql://{0}:{1}@{2}/{3}'.format(database_username,database_password,database_ip,database_name))\n",
    "    \n",
    "    #iris 테이블 생성 + 데이터 입력\n",
    "    iris.to_sql(con=database_connection, name='iris',if_exists='replace')\n",
    "load_iris_data()"
   ]
  },
  {
   "cell_type": "code",
   "execution_count": 6,
   "metadata": {},
   "outputs": [],
   "source": [
    "import pymysql\n",
    "import numpy as np\n",
    "\n",
    "conn = pymysql.connect(host = 'localhost',user = 'root',password = 'taeyoon!', db = 'datascienceassignment3')\n",
    "curs = conn.cursor(pymysql.cursors.DictCursor)\n",
    "\n",
    "sql=\"select * from iris\"\n",
    "curs.execute(sql)\n",
    "\n",
    "#fetchone이 메모리요소에서 보면 바람직하나 데이터양이 적어 fetchall사용\n",
    "data=curs.fetchall()\n",
    "\n",
    "#불러오는법\n",
    "#print(data)\n",
    "\n",
    "curs.close()\n",
    "conn.close()"
   ]
  },
  {
   "cell_type": "code",
   "execution_count": 15,
   "metadata": {},
   "outputs": [],
   "source": [
    "#딕셔너리 형태가 튜플 형태의 리스트로 바뀐다.\n",
    "X=[(t['sepal_length'],t['sepal_width'],t['petal_length'],t['petal_width'])for t in data]\n",
    "#print(X)\n",
    "\n",
    "\n",
    "#print(type(X)) - <class 'list'>\n",
    "#print(type(X[0])) - <class 'tuple'>\n",
    "\n",
    "#tuple의 리스트가 numpy로 바뀐다.\n",
    "X=np.array(X)\n",
    "#print(X)\n",
    "\n",
    "#print(X.shape) - (150, 4)"
   ]
  },
  {
   "cell_type": "code",
   "execution_count": 19,
   "metadata": {},
   "outputs": [],
   "source": [
    "y=[1 if (t['species']=='versicolor') else -1 for t in data]\n",
    "y=np.array(y)\n",
    "#print(y)\n",
    "#print(y.shape) - (150,)"
   ]
  },
  {
   "cell_type": "code",
   "execution_count": 126,
   "metadata": {
    "scrolled": true
   },
   "outputs": [
    {
     "name": "stdout",
     "output_type": "stream",
     "text": [
      "[ 1 -1 -1  1  1 -1  1 -1  1  1 -1 -1 -1 -1 -1  1 -1  1  1 -1 -1 -1 -1 -1\n",
      " -1 -1 -1 -1 -1 -1 -1 -1  1 -1 -1 -1  1 -1 -1 -1 -1  1  1 -1 -1  1  1 -1\n",
      "  1 -1]\n"
     ]
    }
   ],
   "source": [
    "#train data와 test data분리\n",
    "\n",
    "from sklearn.model_selection import train_test_split\n",
    "\n",
    "X_train,X_test,y_train,y_test = train_test_split(X,y, test_size=0.33, random_state=42) #보통 42로 고정\n",
    "\n",
    "#print(X_train)\n",
    "#print(y_train)\n",
    "\n",
    "from sklearn import tree\n",
    "#모델 생성\n",
    "dtree = tree.DecisionTreeClassifier()\n",
    "dtree_model = dtree.fit(X_train, y_train) \n",
    "\n",
    "#예측 값\n",
    "y_predict = dtree_model.predict(X_test)\n",
    "print(y_predict)"
   ]
  },
  {
   "cell_type": "code",
   "execution_count": 127,
   "metadata": {},
   "outputs": [
    {
     "name": "stdout",
     "output_type": "stream",
     "text": [
      "accuracy=0.980000\n",
      "precision=0.937500\n",
      "recall=1.000000\n",
      "f1_score=0.967742\n"
     ]
    }
   ],
   "source": [
    "#성능 측정\n",
    "def classification_performance_eval(y,y_predict):\n",
    "    tp, tn, fp, fn = 0, 0, 0, 0\n",
    "    \n",
    "    for y, yp in zip(y,y_predict) :\n",
    "            if (y == 1 and yp == 1):\n",
    "                tp += 1\n",
    "            elif(y == 1 and yp == -1):\n",
    "                fn += 1\n",
    "            elif(y== -1 and yp == 1) : \n",
    "                fp += 1\n",
    "            else:\n",
    "                tn += 1\n",
    "    accuracy = (tp+tn)/(tp+tn+fp+fn)\n",
    "    precision = (tp)/(tp+fp)\n",
    "    recall = (tp) / (tp+fn)\n",
    "    f1_score = 2*precision*recall / (precision + recall)\n",
    "    \n",
    "    return accuracy,precision,recall,f1_score\n",
    "\n",
    "acc, prec, rec, f1 = classification_performance_eval(y_test,y_predict)\n",
    "\n",
    "print(\"accuracy=%f\"%acc)\n",
    "print(\"precision=%f\"%prec)\n",
    "print(\"recall=%f\"%rec)\n",
    "print(\"f1_score=%f\"%f1)"
   ]
  },
  {
   "cell_type": "code",
   "execution_count": 133,
   "metadata": {},
   "outputs": [
    {
     "name": "stdout",
     "output_type": "stream",
     "text": [
      "[1.0, 1.0, 0.9333333333333333, 0.9333333333333333, 0.9333333333333333]\n"
     ]
    }
   ],
   "source": [
    "from sklearn.model_selection import KFold\n",
    "\n",
    "accuracy= []\n",
    "precision = []\n",
    "recall = []\n",
    "f1_score = []\n",
    "\n",
    "kf = KFold(n_splits=5, random_state=42, shuffle=True)\n",
    "\n",
    "for train_index,test_index in kf.split(X):\n",
    "    X_train,X_test = X[train_index],X[test_index]\n",
    "    y_train,y_test = y[train_index],y[test_index]\n",
    "    \n",
    "    dtree = tree.DecisionTreeClassifier()\n",
    "    dtree = dtree_model.fit(X_train,y_train)\n",
    "    y_predict = dtree_model.predict(X_test)\n",
    "    acc, prec, rec, f1 = classification_performance_eval(y_test,y_predict) \n",
    "    accuracy.append(acc)\n",
    "    precision.append(prec)\n",
    "    recall.append(rec)\n",
    "    f1_score.append(f1)\n",
    "    \n",
    "print(accuracy)"
   ]
  },
  {
   "cell_type": "code",
   "execution_count": 135,
   "metadata": {},
   "outputs": [
    {
     "name": "stdout",
     "output_type": "stream",
     "text": [
      "average_accuracy =  0.96\n",
      "average_precision =  0.9492307692307692\n",
      "average_recall =  0.9400000000000001\n",
      "average_f1_score =  0.9411111111111111\n"
     ]
    }
   ],
   "source": [
    "import statistics\n",
    "\n",
    "print(\"average_accuracy = \",statistics.mean(accuracy))\n",
    "print(\"average_precision = \",statistics.mean(precision))\n",
    "print(\"average_recall = \",statistics.mean(recall))\n",
    "print(\"average_f1_score = \",statistics.mean(f1_score))"
   ]
  },
  {
   "cell_type": "code",
   "execution_count": null,
   "metadata": {},
   "outputs": [],
   "source": []
  }
 ],
 "metadata": {
  "kernelspec": {
   "display_name": "Python 3",
   "language": "python",
   "name": "python3"
  },
  "language_info": {
   "codemirror_mode": {
    "name": "ipython",
    "version": 3
   },
   "file_extension": ".py",
   "mimetype": "text/x-python",
   "name": "python",
   "nbconvert_exporter": "python",
   "pygments_lexer": "ipython3",
   "version": "3.8.3"
  }
 },
 "nbformat": 4,
 "nbformat_minor": 4
}
