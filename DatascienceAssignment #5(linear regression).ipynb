{
 "cells": [
  {
   "cell_type": "code",
   "execution_count": 8,
   "metadata": {},
   "outputs": [
    {
     "name": "stdout",
     "output_type": "stream",
     "text": [
      "                            OLS Regression Results                            \n",
      "==============================================================================\n",
      "Dep. Variable:                      y   R-squared:                       0.820\n",
      "Model:                            OLS   Adj. R-squared:                  0.812\n",
      "Method:                 Least Squares   F-statistic:                     99.06\n",
      "Date:                Mon, 26 Oct 2020   Prob (F-statistic):           1.49e-31\n",
      "Time:                        02:08:21   Log-Likelihood:                -301.58\n",
      "No. Observations:                  92   AIC:                             613.2\n",
      "Df Residuals:                      87   BIC:                             625.8\n",
      "Df Model:                           4                                         \n",
      "Covariance Type:            nonrobust                                         \n",
      "==============================================================================\n",
      "                 coef    std err          t      P>|t|      [0.025      0.975]\n",
      "------------------------------------------------------------------------------\n",
      "const        -17.7479     15.866     -1.119      0.266     -49.283      13.787\n",
      "x1             3.7408      2.266      1.651      0.102      -0.763       8.245\n",
      "x2             0.9097      0.296      3.075      0.003       0.322       1.498\n",
      "x3             1.2171      1.073      1.134      0.260      -0.916       3.350\n",
      "x4             1.5139      0.094     16.021      0.000       1.326       1.702\n",
      "==============================================================================\n",
      "Omnibus:                        0.016   Durbin-Watson:                   1.337\n",
      "Prob(Omnibus):                  0.992   Jarque-Bera (JB):                0.145\n",
      "Skew:                          -0.013   Prob(JB):                        0.930\n",
      "Kurtosis:                       2.807   Cond. No.                         736.\n",
      "==============================================================================\n",
      "\n",
      "Warnings:\n",
      "[1] Standard Errors assume that the covariance matrix of the errors is correctly specified.\n"
     ]
    }
   ],
   "source": [
    "import pymysql\n",
    "import numpy as np\n",
    "import statsmodels.api as sm\n",
    "\n",
    "conn = pymysql.connect(host = 'localhost',user = 'root',password = 'taeyoon!', db = 'datascienceassignment2')\n",
    "curs = conn.cursor(pymysql.cursors.DictCursor)\n",
    "\n",
    "sql = \"select * from db_score\"\n",
    "curs.execute(sql)\n",
    "data = curs.fetchall()\n",
    "\n",
    "curs.close()\n",
    "conn.close()\n",
    "\n",
    "#, t['midterm'], t['final']\n",
    "#X = [ (t['attendance'], t['homework'], t['discussion'], t['midterm'], t['final'])  for t in data ]\n",
    "X = [ (t['attendance'], t['homework'], t['discussion'], t['midterm'])  for t in data ]\n",
    "X = np.array(X)\n",
    "X = sm.add_constant(X)\n",
    "\n",
    "y = [ (t['score']) for t in data ]\n",
    "y = np.array(y)\n",
    "\n",
    "model = sm.OLS(y, X)\n",
    "results = model.fit()\n",
    "print(results.summary())\n",
    "\n"
   ]
  },
  {
   "cell_type": "code",
   "execution_count": null,
   "metadata": {},
   "outputs": [],
   "source": []
  }
 ],
 "metadata": {
  "kernelspec": {
   "display_name": "Python 3",
   "language": "python",
   "name": "python3"
  },
  "language_info": {
   "codemirror_mode": {
    "name": "ipython",
    "version": 3
   },
   "file_extension": ".py",
   "mimetype": "text/x-python",
   "name": "python",
   "nbconvert_exporter": "python",
   "pygments_lexer": "ipython3",
   "version": "3.8.3"
  }
 },
 "nbformat": 4,
 "nbformat_minor": 4
}
